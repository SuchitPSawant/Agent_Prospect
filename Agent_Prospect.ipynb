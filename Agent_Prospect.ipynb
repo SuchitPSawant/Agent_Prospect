{
 "cells": [
  {
   "cell_type": "code",
   "execution_count": 1,
   "metadata": {},
   "outputs": [],
   "source": [
    "#importing essential libraries\n",
    "import csv\n",
    "import pandas as pd\n",
    "import numpy as np\n",
    "from collections import Counter\n",
    "from geopy.geocoders import Nominatim\n",
    "from geopy.distance import great_circle\n",
    "from pandas import DataFrame"
   ]
  },
  {
   "cell_type": "code",
   "execution_count": 2,
   "metadata": {},
   "outputs": [],
   "source": [
    "#importing datasets\n",
    "Agent = list(csv.DictReader(open('Agent.csv')))\n",
    "Prospects = list(csv.DictReader(open('Prospects.csv')))"
   ]
  },
  {
   "cell_type": "code",
   "execution_count": 3,
   "metadata": {},
   "outputs": [
    {
     "name": "stdout",
     "output_type": "stream",
     "text": [
      "Mathew Leon Carlow \n",
      "\n",
      "Mathew Colm Carlow \n",
      "\n",
      "Mark Adam Tipperary \n",
      "\n",
      "Mark Jayden Tipperary \n",
      "\n",
      "Mark Lucas Tipperary \n",
      "\n",
      "Kirk Ryan Cork \n",
      "\n",
      "Kirk Ethan Cork \n",
      "\n",
      "Kirk Cormac Cork \n",
      "\n",
      "Kirk Christopher Cork \n",
      "\n",
      "Kirk Brandon Cork \n",
      "\n",
      "Kirk Ruairi Cork \n",
      "\n",
      "Kirk Reece Cork \n",
      "\n",
      "Jeremy David Kerry \n",
      "\n",
      "Jeremy Jake Kerry \n",
      "\n",
      "Jeremy Ciaran Kerry \n",
      "\n",
      "Richard Alan Dublin \n",
      "\n",
      "Richard Max Dublin \n",
      "\n",
      "Sam Conor Donegal \n",
      "\n",
      "Sam Ben Donegal \n",
      "\n",
      "Sam Robert Donegal \n",
      "\n",
      "Sam Dara Donegal \n",
      "\n",
      "Larry Mark Kildare \n",
      "\n",
      "Larry Harry Kildare \n",
      "\n"
     ]
    }
   ],
   "source": [
    "#My logic here is to find all the agents and prospects living in same cities as people living in same cities-\n",
    "#might be closer to each other.\n",
    "#For example, considering first 2 data rows\n",
    "# Mathew Leon Carlow \n",
    "# Mathew Colm Carlow , We can observe that Mathew is Agent and Leon and Colm are Prospects, all from Carlow.\n",
    "for a in Agent:\n",
    "    for p in Prospects:\n",
    "        if a['City'] == p['City']:\n",
    "            store = print(a['\\ufeffName'],p['\\ufeffName'],p['City'],'\\n')"
   ]
  },
  {
   "cell_type": "code",
   "execution_count": 4,
   "metadata": {},
   "outputs": [
    {
     "name": "stdout",
     "output_type": "stream",
     "text": [
      "Mathew 52.69053 -6.82501 Leon 52.84620 -6.66464 Carlow 12.674066182173185 \n",
      "\n",
      "Mathew 52.69053 -6.82501 Colm 52.68402 -6.74876 Carlow 3.2250246891230376 \n",
      "\n",
      "Mark 52.68477 -7.89808 Adam 53.08619 -8.06461 Tipperary 28.59125254166765 \n",
      "\n",
      "Mark 52.68477 -7.89808 Jayden 52.50735 -8.21639 Tipperary 18.131237653734175 \n",
      "\n",
      "Mark 52.68477 -7.89808 Lucas 52.44296 -7.81223 Tipperary 17.09213347985558 \n",
      "\n",
      "Kirk 51.89792 -8.47058 Ryan 51.67659 -9.47670 Cork 45.63938658832328 \n",
      "\n",
      "Kirk 51.89792 -8.47058 Ethan 51.71497 -8.53070 Cork 12.898940056339885 \n",
      "\n",
      "Kirk 51.89792 -8.47058 Cormac 51.63306 -8.74760 Cork 21.7992799426277 \n",
      "\n",
      "Kirk 51.89792 -8.47058 Christopher 51.55522 -9.30019 Cork 42.67609504183966 \n",
      "\n",
      "Kirk 51.89792 -8.47058 Brandon 52.17574 -9.05175 Cork 31.28298386995263 \n",
      "\n",
      "Kirk 51.89792 -8.47058 Ruairi 51.60129 -9.17457 Cork 36.42617433827468 \n",
      "\n",
      "Kirk 51.89792 -8.47058 Reece 51.72974 -9.07382 Cork 28.26614188210391 \n",
      "\n",
      "Jeremy 52.14533 -9.5174 David 52.34661 -9.68791 Kerry 15.666488787270254 \n",
      "\n",
      "Jeremy 52.14533 -9.5174 Jake 51.75577 -10.15046 Kerry 38.09509718880007 \n",
      "\n",
      "Jeremy 52.14533 -9.5174 Ciaran 52.14838 -9.74048 Kerry 9.460593585422762 \n",
      "\n",
      "Richard 53.34976 -6.26027 Alan 53.42894 -6.18436 Dublin 6.30187747000922 \n",
      "\n",
      "Richard 53.34976 -6.26027 Max 53.38835 -6.36670 Dublin 5.13422010477751 \n",
      "\n",
      "Sam 54.92075 -7.95238 Conor 54.68795 -8.15776 Donegal 18.04493701247102 \n",
      "\n",
      "Sam 54.92075 -7.95238 Ben 54.50860 -8.20015 Donegal 30.14496654123848 \n",
      "\n",
      "Sam 54.92075 -7.95238 Robert 54.51402 -8.20686 Donegal 29.881187399306892 \n",
      "\n",
      "Sam 54.92075 -7.95238 Dara 54.99073 -8.44591 Donegal 20.16845659590053 \n",
      "\n",
      "Larry 53.15436 -6.81841 Mark 52.90114 -6.84169 Kildare 17.52256054228121 \n",
      "\n",
      "Larry 53.15436 -6.81841 Harry 53.28970 -6.68202 Kildare 10.921364113072581 \n",
      "\n"
     ]
    }
   ],
   "source": [
    "#Continuing the above logic, the goal here was to calculate the prospects living closest to agent belonging-\n",
    "#to same city. For instance, it can be observed that Colm lives closest to Mathew than Leon as distance is\n",
    "#between Colm and Mathew is 3.2250246891230376 miles even though all the  three people live in same city.\n",
    "for a in Agent:\n",
    "    for p in Prospects:\n",
    "        if a['City'] == p['City']:\n",
    "            prospect_location = (p['Latitude'], p['Longitude'])\n",
    "            agent_location = (a['Lat'], a['Long'])\n",
    "            print(a['\\ufeffName'],a['Lat'],a['Long'],p['\\ufeffName'],p['Latitude'],p['Longitude'],p['City'],great_circle(prospect_location , agent_location ).miles,'\\n')"
   ]
  },
  {
   "cell_type": "code",
   "execution_count": 5,
   "metadata": {},
   "outputs": [
    {
     "name": "stdout",
     "output_type": "stream",
     "text": [
      "David Cricket Kyle Cricket \n",
      "\n",
      "David Cricket Paul Cricket \n",
      "\n",
      "Mark Football Jake Football \n",
      "\n",
      "Mark Football Cormac Football \n",
      "\n",
      "Mark Football Scott Football \n",
      "\n",
      "Mark Football Niall Football \n",
      "\n",
      "Mark Football Jacob Football \n",
      "\n",
      "Richard Cricket Kyle Cricket \n",
      "\n",
      "Richard Cricket Paul Cricket \n",
      "\n"
     ]
    }
   ],
   "source": [
    "# Here I have determined both Agents and Prospects belonging to company zone sharing same likes(sports/hobby).\n",
    "for a in Agent:\n",
    "    for p in Prospects:\n",
    "        if a['TypeofAgent'] == 'Company' and p['AgentPreference'] == 'Company' and a['Sports'] == p['Sport']:\n",
    "            print(a['\\ufeffName'],a['Sports'],p['\\ufeffName'],p['Sport'],'\\n')"
   ]
  }
 ],
 "metadata": {
  "kernelspec": {
   "display_name": "Python 3",
   "language": "python",
   "name": "python3"
  },
  "language_info": {
   "codemirror_mode": {
    "name": "ipython",
    "version": 3
   },
   "file_extension": ".py",
   "mimetype": "text/x-python",
   "name": "python",
   "nbconvert_exporter": "python",
   "pygments_lexer": "ipython3",
   "version": "3.7.3"
  }
 },
 "nbformat": 4,
 "nbformat_minor": 2
}
